{
 "cells": [
  {
   "cell_type": "code",
   "execution_count": 1,
   "metadata": {},
   "outputs": [
    {
     "name": "stdout",
     "output_type": "stream",
     "text": [
      "finish import\n"
     ]
    }
   ],
   "source": [
    "import pandas as pd\n",
    "import numpy as np\n",
    "import argparse\n",
    "import random\n",
    "from graph_recommend.kgcn_model import KGCN\n",
    "from graph_recommend.data_loader import DataLoader\n",
    "import torch\n",
    "import torch.optim as optim\n",
    "from sklearn.model_selection import train_test_split\n",
    "import matplotlib.pyplot as plt\n",
    "from sklearn.metrics import roc_auc_score\n",
    "\n",
    "print(\"finish import\")"
   ]
  },
  {
   "cell_type": "markdown",
   "metadata": {
    "pycharm": {
     "name": "#%% md\n"
    }
   },
   "source": [
    "## 一、初始化超参数"
   ]
  },
  {
   "cell_type": "code",
   "execution_count": 2,
   "metadata": {
    "pycharm": {
     "name": "#%%\n"
    }
   },
   "outputs": [],
   "source": [
    "parser = argparse.ArgumentParser()\n",
    "\n",
    "parser.add_argument('--dataset', type=str, default='food', help='which dataset to use')\n",
    "parser.add_argument('--aggregator', type=str, default='sum', help='which aggregator to use')\n",
    "parser.add_argument('--n_epochs', type=int, default=80, help='the number of epochs')\n",
    "parser.add_argument('--neighbor_sample_size', type=int, default=8, help='the number of neighbors to be sampled')\n",
    "parser.add_argument('--dim', type=int, default=16, help='dimension of user and entity embeddings')\n",
    "parser.add_argument('--n_iter', type=int, default=1, help='number of iterations when computing entity representation')\n",
    "parser.add_argument('--batch_size', type=int, default=32, help='batch size')\n",
    "parser.add_argument('--l2_weight', type=float, default=1e-4, help='weight of l2 regularization')\n",
    "parser.add_argument('--lr', type=float, default=5e-4, help='learning rate')\n",
    "parser.add_argument('--ratio', type=float, default=0.8, help='size of training dataset')\n",
    "\n",
    "args = parser.parse_args(['--l2_weight', '1e-4'])\n",
    "\n"
   ]
  },
  {
   "cell_type": "markdown",
   "metadata": {},
   "source": [
    "## 二、构建数据集以及知识图谱"
   ]
  },
  {
   "cell_type": "code",
   "execution_count": 3,
   "metadata": {
    "pycharm": {
     "name": "#%%\n"
    }
   },
   "outputs": [
    {
     "name": "stdout",
     "output_type": "stream",
     "text": [
      "Construct knowledge graph ... Done\n",
      "Build dataset dataframe ... Done\n"
     ]
    },
    {
     "data": {
      "text/plain": "       userID  itemID  label\n0         856     566      1\n1         541     588      1\n2         866     585      1\n3         418     603      1\n4         152      48      1\n...       ...     ...    ...\n17028     987     539      1\n17029     683     595      1\n17030     981     717      0\n17031     549     590      0\n17032     482      57      0\n\n[17033 rows x 3 columns]",
      "text/html": "<div>\n<style scoped>\n    .dataframe tbody tr th:only-of-type {\n        vertical-align: middle;\n    }\n\n    .dataframe tbody tr th {\n        vertical-align: top;\n    }\n\n    .dataframe thead th {\n        text-align: right;\n    }\n</style>\n<table border=\"1\" class=\"dataframe\">\n  <thead>\n    <tr style=\"text-align: right;\">\n      <th></th>\n      <th>userID</th>\n      <th>itemID</th>\n      <th>label</th>\n    </tr>\n  </thead>\n  <tbody>\n    <tr>\n      <th>0</th>\n      <td>856</td>\n      <td>566</td>\n      <td>1</td>\n    </tr>\n    <tr>\n      <th>1</th>\n      <td>541</td>\n      <td>588</td>\n      <td>1</td>\n    </tr>\n    <tr>\n      <th>2</th>\n      <td>866</td>\n      <td>585</td>\n      <td>1</td>\n    </tr>\n    <tr>\n      <th>3</th>\n      <td>418</td>\n      <td>603</td>\n      <td>1</td>\n    </tr>\n    <tr>\n      <th>4</th>\n      <td>152</td>\n      <td>48</td>\n      <td>1</td>\n    </tr>\n    <tr>\n      <th>...</th>\n      <td>...</td>\n      <td>...</td>\n      <td>...</td>\n    </tr>\n    <tr>\n      <th>17028</th>\n      <td>987</td>\n      <td>539</td>\n      <td>1</td>\n    </tr>\n    <tr>\n      <th>17029</th>\n      <td>683</td>\n      <td>595</td>\n      <td>1</td>\n    </tr>\n    <tr>\n      <th>17030</th>\n      <td>981</td>\n      <td>717</td>\n      <td>0</td>\n    </tr>\n    <tr>\n      <th>17031</th>\n      <td>549</td>\n      <td>590</td>\n      <td>0</td>\n    </tr>\n    <tr>\n      <th>17032</th>\n      <td>482</td>\n      <td>57</td>\n      <td>0</td>\n    </tr>\n  </tbody>\n</table>\n<p>17033 rows × 3 columns</p>\n</div>"
     },
     "execution_count": 3,
     "metadata": {},
     "output_type": "execute_result"
    }
   ],
   "source": [
    "data_loader = DataLoader(args.dataset)\n",
    "kg = data_loader.load_kg()\n",
    "df_dataset = data_loader.load_dataset()\n",
    "df_dataset"
   ]
  },
  {
   "cell_type": "markdown",
   "metadata": {
    "pycharm": {
     "name": "#%% md\n"
    }
   },
   "source": [
    "## 三、训练模型"
   ]
  },
  {
   "cell_type": "code",
   "execution_count": 4,
   "metadata": {
    "pycharm": {
     "name": "#%%\n"
    }
   },
   "outputs": [],
   "source": [
    "class KGCNDataset(torch.utils.data.Dataset):\n",
    "    def __init__(self, df):\n",
    "        self.df = df\n",
    "\n",
    "    def __len__(self):\n",
    "        return len(self.df)\n",
    "\n",
    "    def __getitem__(self, idx):\n",
    "        user_id = np.array(self.df.iloc[idx]['userID'])\n",
    "        item_id = np.array(self.df.iloc[idx]['itemID'])\n",
    "        label = np.array(self.df.iloc[idx]['label'], dtype=np.float32)\n",
    "        return user_id, item_id, label\n"
   ]
  },
  {
   "cell_type": "code",
   "execution_count": 5,
   "outputs": [],
   "source": [
    "x_train, x_test, y_train, y_test = train_test_split(df_dataset, df_dataset['label'], test_size=1 - args.ratio,\n",
    "                                                    shuffle=False, random_state=999)\n",
    "train_dataset = KGCNDataset(x_train)\n",
    "test_dataset = KGCNDataset(x_test)\n",
    "train_loader = torch.utils.data.DataLoader(train_dataset, batch_size=args.batch_size)\n",
    "test_loader = torch.utils.data.DataLoader(test_dataset, batch_size=args.batch_size)"
   ],
   "metadata": {
    "collapsed": false,
    "pycharm": {
     "name": "#%%\n"
    }
   }
  },
  {
   "cell_type": "code",
   "execution_count": 6,
   "outputs": [
    {
     "name": "stdout",
     "output_type": "stream",
     "text": [
      "device:  cpu\n"
     ]
    }
   ],
   "source": [
    "# prepare network, loss function, optimizer\n",
    "num_user, num_entity, num_relation = data_loader.get_num()\n",
    "user_encoder, entity_encoder, relation_encoder = data_loader.get_encoders()\n",
    "device = torch.device('cuda' if torch.cuda.is_available() else 'cpu')\n",
    "net = KGCN(num_user, num_entity, num_relation, kg, args, device).to(device)\n",
    "criterion = torch.nn.BCELoss()\n",
    "optimizer = optim.Adam(net.parameters(), lr=args.lr, weight_decay=args.l2_weight)\n",
    "print('device: ', device)\n"
   ],
   "metadata": {
    "collapsed": false,
    "pycharm": {
     "name": "#%%\n"
    }
   }
  },
  {
   "cell_type": "code",
   "execution_count": 7,
   "outputs": [
    {
     "name": "stdout",
     "output_type": "stream",
     "text": [
      "[Epoch 1]train_loss:  1.0126948916296443\n",
      "[Epoch 1]test_loss:  0.9899790766083192\n",
      "[Epoch 2]train_loss:  0.88591498528288\n",
      "[Epoch 2]test_loss:  0.8893052818619203\n",
      "[Epoch 3]train_loss:  0.7949630262706201\n",
      "[Epoch 3]test_loss:  0.8159674790418037\n",
      "[Epoch 4]train_loss:  0.7318549827091011\n",
      "[Epoch 4]test_loss:  0.7645043552478897\n",
      "[Epoch 5]train_loss:  0.6885955420458261\n",
      "[Epoch 5]test_loss:  0.7288096686389959\n",
      "[Epoch 6]train_loss:  0.6586173940012713\n",
      "[Epoch 6]test_loss:  0.7036751659117012\n",
      "[Epoch 7]train_loss:  0.6365430821695238\n",
      "[Epoch 7]test_loss:  0.6850330623510842\n",
      "[Epoch 8]train_loss:  0.618555645637669\n",
      "[Epoch 8]test_loss:  0.6701183502919206\n",
      "[Epoch 9]train_loss:  0.6023025741459618\n",
      "[Epoch 9]test_loss:  0.657132230072378\n",
      "[Epoch 10]train_loss:  0.5862611852621249\n",
      "[Epoch 10]test_loss:  0.6448483469887315\n",
      "[Epoch 11]train_loss:  0.5698667139934263\n",
      "[Epoch 11]test_loss:  0.6331510891981214\n",
      "[Epoch 12]train_loss:  0.5535609355554895\n",
      "[Epoch 12]test_loss:  0.6222853590951902\n",
      "[Epoch 13]train_loss:  0.537325296743375\n",
      "[Epoch 13]test_loss:  0.6119527836269307\n",
      "[Epoch 14]train_loss:  0.5208413122405469\n",
      "[Epoch 14]test_loss:  0.6019943047349698\n",
      "[Epoch 15]train_loss:  0.504181111572494\n",
      "[Epoch 15]test_loss:  0.5924154135668389\n",
      "[Epoch 16]train_loss:  0.48756716585774934\n",
      "[Epoch 16]test_loss:  0.5832629805413362\n",
      "[Epoch 17]train_loss:  0.4711876836181247\n",
      "[Epoch 17]test_loss:  0.574543816742496\n",
      "[Epoch 18]train_loss:  0.4552432526724999\n",
      "[Epoch 18]test_loss:  0.5664312271314247\n",
      "[Epoch 19]train_loss:  0.43993243826946743\n",
      "[Epoch 19]test_loss:  0.5588399350086105\n",
      "[Epoch 20]train_loss:  0.425055732259728\n",
      "[Epoch 20]test_loss:  0.5515375850356627\n",
      "[Epoch 21]train_loss:  0.41054552107909476\n",
      "[Epoch 21]test_loss:  0.5445947301722018\n",
      "[Epoch 22]train_loss:  0.3964651126956716\n",
      "[Epoch 22]test_loss:  0.5380478760349416\n",
      "[Epoch 23]train_loss:  0.38283864866959655\n",
      "[Epoch 23]test_loss:  0.5318923174777878\n",
      "[Epoch 24]train_loss:  0.36969263442385364\n",
      "[Epoch 24]test_loss:  0.5260951279479766\n",
      "[Epoch 25]train_loss:  0.3570352128134087\n",
      "[Epoch 25]test_loss:  0.5205794937699755\n",
      "[Epoch 26]train_loss:  0.3448398277303423\n",
      "[Epoch 26]test_loss:  0.515263125718197\n",
      "[Epoch 27]train_loss:  0.3330883804901105\n",
      "[Epoch 27]test_loss:  0.5101036148093571\n",
      "[Epoch 28]train_loss:  0.32177903992889073\n",
      "[Epoch 28]test_loss:  0.5051189713946013\n",
      "[Epoch 29]train_loss:  0.31091271368830414\n",
      "[Epoch 29]test_loss:  0.5003204064391483\n",
      "[Epoch 30]train_loss:  0.3004930527627188\n",
      "[Epoch 30]test_loss:  0.4956707029699165\n",
      "[Epoch 31]train_loss:  0.290524889780602\n",
      "[Epoch 31]test_loss:  0.4912129506886562\n",
      "[Epoch 32]train_loss:  0.28100387898968976\n",
      "[Epoch 32]test_loss:  0.4869659537466887\n",
      "[Epoch 33]train_loss:  0.27193722279278887\n",
      "[Epoch 33]test_loss:  0.4829271956581936\n",
      "[Epoch 34]train_loss:  0.26333835045916376\n",
      "[Epoch 34]test_loss:  0.47912931191587005\n",
      "[Epoch 35]train_loss:  0.2551975340840402\n",
      "[Epoch 35]test_loss:  0.4755845292706356\n",
      "[Epoch 36]train_loss:  0.24748669900524783\n",
      "[Epoch 36]test_loss:  0.47227753211404677\n",
      "[Epoch 37]train_loss:  0.2401755840950449\n",
      "[Epoch 37]test_loss:  0.4691895732534266\n",
      "[Epoch 38]train_loss:  0.23323586483446646\n",
      "[Epoch 38]test_loss:  0.4663069750939574\n",
      "[Epoch 39]train_loss:  0.2266408168129238\n",
      "[Epoch 39]test_loss:  0.46361834771722277\n",
      "[Epoch 40]train_loss:  0.22036470177237977\n",
      "[Epoch 40]test_loss:  0.46111254714359745\n",
      "[Epoch 41]train_loss:  0.21438267256872195\n",
      "[Epoch 41]test_loss:  0.45878083335462017\n",
      "[Epoch 42]train_loss:  0.20867235687487\n",
      "[Epoch 42]test_loss:  0.4566206873577332\n",
      "[Epoch 43]train_loss:  0.20321764905407955\n",
      "[Epoch 43]test_loss:  0.45462891849401954\n",
      "[Epoch 44]train_loss:  0.198009222483551\n",
      "[Epoch 44]test_loss:  0.4527923360327694\n",
      "[Epoch 45]train_loss:  0.19304139289497768\n",
      "[Epoch 45]test_loss:  0.4510953970880152\n",
      "[Epoch 46]train_loss:  0.1883077665009129\n",
      "[Epoch 46]test_loss:  0.44952384640123244\n",
      "[Epoch 47]train_loss:  0.18379775926190922\n",
      "[Epoch 47]test_loss:  0.44806559495279724\n",
      "[Epoch 48]train_loss:  0.17950078998932817\n",
      "[Epoch 48]test_loss:  0.44671371704507096\n",
      "[Epoch 49]train_loss:  0.17540742505883947\n",
      "[Epoch 49]test_loss:  0.445463642338726\n",
      "[Epoch 50]train_loss:  0.17150609088545674\n",
      "[Epoch 50]test_loss:  0.44430931525252687\n",
      "[Epoch 51]train_loss:  0.1677852225065791\n",
      "[Epoch 51]test_loss:  0.44324534797222814\n",
      "[Epoch 52]train_loss:  0.16423536174244163\n",
      "[Epoch 52]test_loss:  0.44226662953880347\n",
      "[Epoch 53]train_loss:  0.1608470823493362\n",
      "[Epoch 53]test_loss:  0.4413673858219218\n",
      "[Epoch 54]train_loss:  0.15760920572798576\n",
      "[Epoch 54]test_loss:  0.44054105613276223\n",
      "[Epoch 55]train_loss:  0.15451275279194537\n",
      "[Epoch 55]test_loss:  0.43978002263563815\n",
      "[Epoch 56]train_loss:  0.15156014419287583\n",
      "[Epoch 56]test_loss:  0.4390861720682305\n",
      "[Epoch 57]train_loss:  0.1487530335748979\n",
      "[Epoch 57]test_loss:  0.4384615013254023\n",
      "[Epoch 58]train_loss:  0.1460864660395703\n",
      "[Epoch 58]test_loss:  0.43790370100569503\n",
      "[Epoch 59]train_loss:  0.14355212497249456\n",
      "[Epoch 59]test_loss:  0.43740657779657954\n",
      "[Epoch 60]train_loss:  0.1411412040847288\n",
      "[Epoch 60]test_loss:  0.4369625758344882\n",
      "[Epoch 61]train_loss:  0.13884573424576033\n",
      "[Epoch 61]test_loss:  0.43656315062647666\n",
      "[Epoch 62]train_loss:  0.13665895263703776\n",
      "[Epoch 62]test_loss:  0.4361986581967256\n",
      "[Epoch 63]train_loss:  0.13457493389576253\n",
      "[Epoch 63]test_loss:  0.4358602602069623\n",
      "[Epoch 64]train_loss:  0.13258807688181948\n",
      "[Epoch 64]test_loss:  0.4355412118624304\n",
      "[Epoch 65]train_loss:  0.13069295648817725\n",
      "[Epoch 65]test_loss:  0.4352369092613737\n",
      "[Epoch 66]train_loss:  0.12888435781561713\n",
      "[Epoch 66]test_loss:  0.4349440151007376\n",
      "[Epoch 67]train_loss:  0.12715735891615282\n",
      "[Epoch 67]test_loss:  0.43466030284066065\n",
      "[Epoch 68]train_loss:  0.12550735136083035\n",
      "[Epoch 68]test_loss:  0.4343840272348618\n",
      "[Epoch 69]train_loss:  0.1239300225402268\n",
      "[Epoch 69]test_loss:  0.43411317119531545\n",
      "[Epoch 70]train_loss:  0.12242139183299643\n",
      "[Epoch 70]test_loss:  0.4338452334158889\n",
      "[Epoch 71]train_loss:  0.12097783285267476\n",
      "[Epoch 71]test_loss:  0.4335775127477735\n",
      "[Epoch 72]train_loss:  0.11959608079332142\n",
      "[Epoch 72]test_loss:  0.4333076974220365\n",
      "[Epoch 73]train_loss:  0.11827332220376938\n",
      "[Epoch 73]test_loss:  0.43303407979345765\n",
      "[Epoch 74]train_loss:  0.11700714029756511\n",
      "[Epoch 74]test_loss:  0.432755730837305\n",
      "[Epoch 75]train_loss:  0.11579539025193648\n",
      "[Epoch 75]test_loss:  0.43247245154648184\n",
      "[Epoch 76]train_loss:  0.11463600110280121\n",
      "[Epoch 76]test_loss:  0.43218412326875133\n",
      "[Epoch 77]train_loss:  0.11352691052595215\n",
      "[Epoch 77]test_loss:  0.4318905513141757\n",
      "[Epoch 78]train_loss:  0.11246607625778292\n",
      "[Epoch 78]test_loss:  0.4315922614012923\n",
      "[Epoch 79]train_loss:  0.11145143562429388\n",
      "[Epoch 79]test_loss:  0.43128990193950795\n",
      "[Epoch 80]train_loss:  0.11048093613044757\n",
      "[Epoch 80]test_loss:  0.4309839518549286\n"
     ]
    }
   ],
   "source": [
    "# train\n",
    "loss_list = []\n",
    "test_loss_list = []\n",
    "auc_score_list = []\n",
    "\n",
    "for epoch in range(args.n_epochs):\n",
    "    running_loss = 0.0\n",
    "    for i, (user_ids, item_ids, labels) in enumerate(train_loader):\n",
    "        user_ids, item_ids, labels = user_ids.to(device), item_ids.to(device), labels.to(device)\n",
    "        optimizer.zero_grad()\n",
    "        outputs = net(user_ids, item_ids)\n",
    "        loss = criterion(outputs, labels)\n",
    "        loss.backward()\n",
    "\n",
    "        optimizer.step()\n",
    "\n",
    "        running_loss += loss.item()\n",
    "\n",
    "    # print train loss per every epoch\n",
    "    print('[Epoch {}]train_loss: '.format(epoch + 1), running_loss / len(train_loader))\n",
    "    loss_list.append(running_loss / len(train_loader))\n",
    "\n",
    "    # evaluate per every epoch\n",
    "    with torch.no_grad():\n",
    "        test_loss = 0\n",
    "        total_roc = 0\n",
    "        for user_ids, item_ids, labels in test_loader:\n",
    "            user_ids, item_ids, labels = user_ids.to(device), item_ids.to(device), labels.to(device)\n",
    "            outputs = net(user_ids, item_ids)\n",
    "            test_loss += criterion(outputs, labels).item()\n",
    "            total_roc += roc_auc_score(labels.cpu().detach().numpy(), outputs.cpu().detach().numpy())\n",
    "        print('[Epoch {}]test_loss: '.format(epoch + 1), test_loss / len(test_loader))\n",
    "        test_loss_list.append(test_loss / len(test_loader))\n",
    "        auc_score_list.append(total_roc / len(test_loader))\n"
   ],
   "metadata": {
    "collapsed": false,
    "pycharm": {
     "name": "#%%\n"
    }
   }
  },
  {
   "cell_type": "code",
   "execution_count": 8,
   "outputs": [
    {
     "data": {
      "text/plain": "<Figure size 720x288 with 2 Axes>",
      "image/png": "[encoded data removed]"
     },
     "metadata": {
      "needs_background": "light"
     },
     "output_type": "display_data"
    }
   ],
   "source": [
    "# plot losses / scores\n",
    "fig, (ax1, ax2) = plt.subplots(1, 2, figsize=(10, 4))  # 1 row, 2 columns\n",
    "ax1.plot(loss_list)\n",
    "ax1.plot(test_loss_list)\n",
    "ax2.plot(auc_score_list)\n",
    "\n",
    "plt.tight_layout()\n"
   ],
   "metadata": {
    "collapsed": false,
    "pycharm": {
     "name": "#%%\n"
    }
   }
  },
  {
   "cell_type": "markdown",
   "source": [
    "## 四、测试推荐结果\n"
   ],
   "metadata": {
    "collapsed": false,
    "pycharm": {
     "name": "#%% md\n"
    }
   }
  },
  {
   "cell_type": "code",
   "execution_count": 16,
   "outputs": [
    {
     "data": {
      "text/plain": "0          0\n1          4\n2          7\n3         10\n4         11\n        ... \n1552    1609\n1553    1610\n1554    1611\n1555    1612\n1556    1613\nName: id, Length: 1557, dtype: int64"
     },
     "execution_count": 16,
     "metadata": {},
     "output_type": "execute_result"
    }
   ],
   "source": [
    "chart = pd.read_csv(\"data/item_detail.txt\", sep='\\t', header=None,\n",
    "                    names=['id', 'name', 'taste', 'cuisine', 'cooking_method', 'url'])\n",
    "item_ids = chart['id']\n",
    "item_ids\n"
   ],
   "metadata": {
    "collapsed": false,
    "pycharm": {
     "name": "#%%\n"
    }
   }
  },
  {
   "cell_type": "code",
   "execution_count": 26,
   "outputs": [
    {
     "name": "stdout",
     "output_type": "stream",
     "text": [
      "Top-K 推荐菜:\n",
      "327 猪肚煲粥 粤菜 270 海底椰虫草花炖鸡汤 粤菜 332 糯米蛋黄球 粤菜 351 苹果竹蔗猪骨汤 粤菜 307 汕头牛筋丸汤河粉 粤菜 349 鱼皮饺包蛋煮肠粉 粤菜 291 煎酿尖椒 粤菜 326 花生蒸鱼干 粤菜 319 咸蛋肉沫芥菜汤 粤菜 290 月饼馅栗蓉 粤菜 \n"
     ]
    }
   ],
   "source": [
    "user_id = 39\n",
    "user = torch.tensor([user_id])\n",
    "\n",
    "score_list = []\n",
    "for id in item_ids:\n",
    "    item = torch.tensor([id])\n",
    "    score = net(user, item)\n",
    "    score_list.append([id, score])\n",
    "\n",
    "sort_list = sorted(score_list, key=lambda t: t[1], reverse=True)\n",
    "\n",
    "i = 0\n",
    "res_str = \"\"\n",
    "for t in sort_list[:10]:\n",
    "    id = t[0]\n",
    "    cur_item = chart[chart['id'].isin([id])]\n",
    "    cur_item.reset_index(inplace=True, drop=True)\n",
    "    name = cur_item.at[0, 'name']\n",
    "    cuisine = cur_item.at[0, 'cuisine']\n",
    "    res_str = res_str + str(id) + \" \" + name + \" \" + cuisine + \" \"\n",
    "\n",
    "print(\"Top-K 推荐菜:\")\n",
    "print(res_str)"
   ],
   "metadata": {
    "collapsed": false,
    "pycharm": {
     "name": "#%%\n"
    }
   }
  },
  {
   "cell_type": "code",
   "execution_count": null,
   "outputs": [],
   "source": [],
   "metadata": {
    "collapsed": false,
    "pycharm": {
     "name": "#%%\n"
    }
   }
  }
 ],
 "metadata": {
  "kernelspec": {
   "display_name": "Python 3 (ipykernel)",
   "language": "python",
   "name": "python3"
  },
  "language_info": {
   "codemirror_mode": {
    "name": "ipython",
    "version": 3
   },
   "file_extension": ".py",
   "mimetype": "text/x-python",
   "name": "python",
   "nbconvert_exporter": "python",
   "pygments_lexer": "ipython3",
   "version": "3.8.12"
  }
 },
 "nbformat": 4,
 "nbformat_minor": 1
}