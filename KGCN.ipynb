{
 "cells": [
  {
   "cell_type": "code",
   "execution_count": 1,
   "metadata": {},
   "outputs": [
    {
     "name": "stdout",
     "output_type": "stream",
     "text": [
      "finish import\n"
     ]
    }
   ],
   "source": [
    "import pandas as pd\n",
    "import numpy as np\n",
    "import argparse\n",
    "import random\n",
    "from graph_recommend.kgcn_model import KGCN\n",
    "from graph_recommend.data_loader import DataLoader\n",
    "import torch\n",
    "import torch.optim as optim\n",
    "from sklearn.model_selection import train_test_split\n",
    "import matplotlib.pyplot as plt\n",
    "from sklearn.metrics import roc_auc_score\n",
    "\n",
    "print(\"finish import\")"
   ]
  },
  {
   "cell_type": "markdown",
   "metadata": {
    "pycharm": {
     "name": "#%% md\n"
    }
   },
   "source": [
    "## 一、初始化超参数"
   ]
  },
  {
   "cell_type": "code",
   "execution_count": 2,
   "metadata": {
    "pycharm": {
     "name": "#%%\n"
    }
   },
   "outputs": [],
   "source": [
    "parser = argparse.ArgumentParser()\n",
    "\n",
    "parser.add_argument('--dataset', type=str, default='food', help='which dataset to use')\n",
    "parser.add_argument('--aggregator', type=str, default='sum', help='which aggregator to use')\n",
    "parser.add_argument('--n_epochs', type=int, default=80, help='the number of epochs')\n",
    "parser.add_argument('--neighbor_sample_size', type=int, default=8, help='the number of neighbors to be sampled')\n",
    "parser.add_argument('--dim', type=int, default=16, help='dimension of user and entity embeddings')\n",
    "parser.add_argument('--n_iter', type=int, default=1, help='number of iterations when computing entity representation')\n",
    "parser.add_argument('--batch_size', type=int, default=32, help='batch size')\n",
    "parser.add_argument('--l2_weight', type=float, default=1e-4, help='weight of l2 regularization')\n",
    "parser.add_argument('--lr', type=float, default=5e-4, help='learning rate')\n",
    "parser.add_argument('--ratio', type=float, default=0.8, help='size of training dataset')\n",
    "\n",
    "args = parser.parse_args(['--l2_weight', '1e-4'])\n",
    "\n"
   ]
  },
  {
   "cell_type": "markdown",
   "metadata": {},
   "source": [
    "## 二、构建数据集以及知识图谱"
   ]
  },
  {
   "cell_type": "code",
   "execution_count": 3,
   "metadata": {
    "pycharm": {
     "name": "#%%\n"
    }
   },
   "outputs": [
    {
     "name": "stdout",
     "output_type": "stream",
     "text": [
      "Construct knowledge graph ... Done\n",
      "Build dataset dataframe ... Done\n"
     ]
    },
    {
     "data": {
      "text/plain": "       userID  itemID  label\n0         856     566      1\n1         541     588      1\n2         866     585      1\n3         418     603      1\n4         152      48      1\n...       ...     ...    ...\n17028     987     539      1\n17029     683     595      1\n17030     981    1076      0\n17031     549    1376      0\n17032     482     343      0\n\n[17033 rows x 3 columns]",
      "text/html": "<div>\n<style scoped>\n    .dataframe tbody tr th:only-of-type {\n        vertical-align: middle;\n    }\n\n    .dataframe tbody tr th {\n        vertical-align: top;\n    }\n\n    .dataframe thead th {\n        text-align: right;\n    }\n</style>\n<table border=\"1\" class=\"dataframe\">\n  <thead>\n    <tr style=\"text-align: right;\">\n      <th></th>\n      <th>userID</th>\n      <th>itemID</th>\n      <th>label</th>\n    </tr>\n  </thead>\n  <tbody>\n    <tr>\n      <th>0</th>\n      <td>856</td>\n      <td>566</td>\n      <td>1</td>\n    </tr>\n    <tr>\n      <th>1</th>\n      <td>541</td>\n      <td>588</td>\n      <td>1</td>\n    </tr>\n    <tr>\n      <th>2</th>\n      <td>866</td>\n      <td>585</td>\n      <td>1</td>\n    </tr>\n    <tr>\n      <th>3</th>\n      <td>418</td>\n      <td>603</td>\n      <td>1</td>\n    </tr>\n    <tr>\n      <th>4</th>\n      <td>152</td>\n      <td>48</td>\n      <td>1</td>\n    </tr>\n    <tr>\n      <th>...</th>\n      <td>...</td>\n      <td>...</td>\n      <td>...</td>\n    </tr>\n    <tr>\n      <th>17028</th>\n      <td>987</td>\n      <td>539</td>\n      <td>1</td>\n    </tr>\n    <tr>\n      <th>17029</th>\n      <td>683</td>\n      <td>595</td>\n      <td>1</td>\n    </tr>\n    <tr>\n      <th>17030</th>\n      <td>981</td>\n      <td>1076</td>\n      <td>0</td>\n    </tr>\n    <tr>\n      <th>17031</th>\n      <td>549</td>\n      <td>1376</td>\n      <td>0</td>\n    </tr>\n    <tr>\n      <th>17032</th>\n      <td>482</td>\n      <td>343</td>\n      <td>0</td>\n    </tr>\n  </tbody>\n</table>\n<p>17033 rows × 3 columns</p>\n</div>"
     },
     "execution_count": 3,
     "metadata": {},
     "output_type": "execute_result"
    }
   ],
   "source": [
    "data_loader = DataLoader(args.dataset)\n",
    "kg = data_loader.load_kg()\n",
    "df_dataset = data_loader.load_dataset()\n",
    "df_dataset"
   ]
  },
  {
   "cell_type": "markdown",
   "metadata": {
    "pycharm": {
     "name": "#%% md\n"
    }
   },
   "source": [
    "## 三、训练模型"
   ]
  },
  {
   "cell_type": "code",
   "execution_count": 5,
   "metadata": {
    "pycharm": {
     "name": "#%%\n"
    }
   },
   "outputs": [],
   "source": [
    "class KGCNDataset(torch.utils.data.Dataset):\n",
    "    def __init__(self, df):\n",
    "        self.df = df\n",
    "\n",
    "    def __len__(self):\n",
    "        return len(self.df)\n",
    "\n",
    "    def __getitem__(self, idx):\n",
    "        user_id = np.array(self.df.iloc[idx]['userID'])\n",
    "        item_id = np.array(self.df.iloc[idx]['itemID'])\n",
    "        label = np.array(self.df.iloc[idx]['label'], dtype=np.float32)\n",
    "        return user_id, item_id, label\n"
   ]
  },
  {
   "cell_type": "code",
   "execution_count": 6,
   "metadata": {
    "pycharm": {
     "name": "#%%\n"
    }
   },
   "outputs": [],
   "source": [
    "x_train, x_test, y_train, y_test = train_test_split(df_dataset, df_dataset['label'], test_size=1 - args.ratio,\n",
    "                                                    shuffle=False, random_state=999)\n",
    "train_dataset = KGCNDataset(x_train)\n",
    "test_dataset = KGCNDataset(x_test)\n",
    "train_loader = torch.utils.data.DataLoader(train_dataset, batch_size=args.batch_size)\n",
    "test_loader = torch.utils.data.DataLoader(test_dataset, batch_size=args.batch_size)"
   ]
  },
  {
   "cell_type": "code",
   "execution_count": 7,
   "metadata": {
    "pycharm": {
     "name": "#%%\n"
    }
   },
   "outputs": [
    {
     "name": "stdout",
     "output_type": "stream",
     "text": [
      "device:  cpu\n"
     ]
    }
   ],
   "source": [
    "# prepare network, loss function, optimizer\n",
    "num_user, num_entity, num_relation = data_loader.get_num()\n",
    "user_encoder, entity_encoder, relation_encoder = data_loader.get_encoders()\n",
    "device = torch.device('cuda' if torch.cuda.is_available() else 'cpu')\n",
    "net = KGCN(num_user, num_entity, num_relation, kg, args, device).to(device)\n",
    "criterion = torch.nn.BCELoss()\n",
    "optimizer = optim.Adam(net.parameters(), lr=args.lr, weight_decay=args.l2_weight)\n",
    "print('device: ', device)\n"
   ]
  },
  {
   "cell_type": "code",
   "execution_count": 7,
   "metadata": {
    "pycharm": {
     "name": "#%%\n"
    }
   },
   "outputs": [
    {
     "name": "stdout",
     "output_type": "stream",
     "text": [
      "[Epoch 1]train_loss:  1.0081272181210943\n",
      "[Epoch 1]test_loss:  0.9748131098034226\n",
      "[Epoch 2]train_loss:  0.8861121105755998\n",
      "[Epoch 2]test_loss:  0.8812586447902929\n",
      "[Epoch 3]train_loss:  0.7960078323111288\n",
      "[Epoch 3]test_loss:  0.810901819545532\n",
      "[Epoch 4]train_loss:  0.7350502107904551\n",
      "[Epoch 4]test_loss:  0.7620744749764415\n",
      "[Epoch 5]train_loss:  0.6956323751821204\n",
      "[Epoch 5]test_loss:  0.7300008930892588\n",
      "[Epoch 6]train_loss:  0.6698538071952516\n",
      "[Epoch 6]test_loss:  0.7088098292038819\n",
      "[Epoch 7]train_loss:  0.6514485199966341\n",
      "[Epoch 7]test_loss:  0.6937262560719641\n",
      "[Epoch 8]train_loss:  0.636282270363239\n",
      "[Epoch 8]test_loss:  0.6816520356686315\n",
      "[Epoch 9]train_loss:  0.6219686210994989\n",
      "[Epoch 9]test_loss:  0.6707825209492835\n",
      "[Epoch 10]train_loss:  0.6073227261013828\n",
      "[Epoch 10]test_loss:  0.6602525154006815\n",
      "[Epoch 11]train_loss:  0.5919465950117425\n",
      "[Epoch 11]test_loss:  0.6497531744921319\n",
      "[Epoch 12]train_loss:  0.575785873011804\n",
      "[Epoch 12]test_loss:  0.6393741383173756\n",
      "[Epoch 13]train_loss:  0.5593315491653944\n",
      "[Epoch 13]test_loss:  0.6297276345925911\n",
      "[Epoch 14]train_loss:  0.5429662441563718\n",
      "[Epoch 14]test_loss:  0.6208302595905054\n",
      "[Epoch 15]train_loss:  0.5266923777794055\n",
      "[Epoch 15]test_loss:  0.6124737894980707\n",
      "[Epoch 16]train_loss:  0.5105947249791991\n",
      "[Epoch 16]test_loss:  0.6046607257606827\n",
      "[Epoch 17]train_loss:  0.49464962984754446\n",
      "[Epoch 17]test_loss:  0.5972569548638067\n",
      "[Epoch 18]train_loss:  0.47894144498966107\n",
      "[Epoch 18]test_loss:  0.5901857478039287\n",
      "[Epoch 19]train_loss:  0.4635770329287354\n",
      "[Epoch 19]test_loss:  0.583436434792581\n",
      "[Epoch 20]train_loss:  0.44841701890661123\n",
      "[Epoch 20]test_loss:  0.5767564447683708\n",
      "[Epoch 21]train_loss:  0.43331176952017303\n",
      "[Epoch 21]test_loss:  0.5699928968309242\n",
      "[Epoch 22]train_loss:  0.41816810298133905\n",
      "[Epoch 22]test_loss:  0.5631720089466772\n",
      "[Epoch 23]train_loss:  0.40303776255795654\n",
      "[Epoch 23]test_loss:  0.5561959403697575\n",
      "[Epoch 24]train_loss:  0.3880238453966911\n",
      "[Epoch 24]test_loss:  0.5489542283744455\n",
      "[Epoch 25]train_loss:  0.3732534268862205\n",
      "[Epoch 25]test_loss:  0.5414835044713778\n",
      "[Epoch 26]train_loss:  0.3588839721092036\n",
      "[Epoch 26]test_loss:  0.5340903426442191\n",
      "[Epoch 27]train_loss:  0.34505770341471326\n",
      "[Epoch 27]test_loss:  0.5271308594774977\n",
      "[Epoch 28]train_loss:  0.33182928935043127\n",
      "[Epoch 28]test_loss:  0.5205254284577949\n",
      "[Epoch 29]train_loss:  0.3193352544251742\n",
      "[Epoch 29]test_loss:  0.5144423449707922\n",
      "[Epoch 30]train_loss:  0.3076186977991476\n",
      "[Epoch 30]test_loss:  0.5087804738606247\n",
      "[Epoch 31]train_loss:  0.2965486473250837\n",
      "[Epoch 31]test_loss:  0.503455968660729\n",
      "[Epoch 32]train_loss:  0.2860999745032597\n",
      "[Epoch 32]test_loss:  0.4987115080111495\n",
      "[Epoch 33]train_loss:  0.2763045699523648\n",
      "[Epoch 33]test_loss:  0.4944793289509889\n",
      "[Epoch 34]train_loss:  0.26713826279964803\n",
      "[Epoch 34]test_loss:  0.49063237164622153\n",
      "[Epoch 35]train_loss:  0.25854611109959685\n",
      "[Epoch 35]test_loss:  0.48713399511631406\n",
      "[Epoch 36]train_loss:  0.2504726279999169\n",
      "[Epoch 36]test_loss:  0.4839567990503579\n",
      "[Epoch 37]train_loss:  0.24287065359908092\n",
      "[Epoch 37]test_loss:  0.4810847021708979\n",
      "[Epoch 38]train_loss:  0.2357030719028952\n",
      "[Epoch 38]test_loss:  0.47849206863162674\n",
      "[Epoch 39]train_loss:  0.22894534330482774\n",
      "[Epoch 39]test_loss:  0.4761221821063033\n",
      "[Epoch 40]train_loss:  0.22257032481507516\n",
      "[Epoch 40]test_loss:  0.4739528372187481\n",
      "[Epoch 41]train_loss:  0.21654313386466023\n",
      "[Epoch 41]test_loss:  0.47197699950677213\n",
      "[Epoch 42]train_loss:  0.21083233888510247\n",
      "[Epoch 42]test_loss:  0.4701793951408885\n",
      "[Epoch 43]train_loss:  0.20541433725908329\n",
      "[Epoch 43]test_loss:  0.46854140727876503\n",
      "[Epoch 44]train_loss:  0.20026717044657943\n",
      "[Epoch 44]test_loss:  0.4670474313408415\n",
      "[Epoch 45]train_loss:  0.19536742083553418\n",
      "[Epoch 45]test_loss:  0.46568652263311583\n",
      "[Epoch 46]train_loss:  0.1906947707101493\n",
      "[Epoch 46]test_loss:  0.46444988459627207\n",
      "[Epoch 47]train_loss:  0.1862337290541107\n",
      "[Epoch 47]test_loss:  0.4633288234472275\n",
      "[Epoch 48]train_loss:  0.18197271941413343\n",
      "[Epoch 48]test_loss:  0.46231426799965797\n",
      "[Epoch 49]train_loss:  0.17790176729920884\n",
      "[Epoch 49]test_loss:  0.4613982432077978\n",
      "[Epoch 50]train_loss:  0.17401013037128626\n",
      "[Epoch 50]test_loss:  0.4605709266996829\n",
      "[Epoch 51]train_loss:  0.170287581046982\n",
      "[Epoch 51]test_loss:  0.4598147763270084\n",
      "[Epoch 52]train_loss:  0.16672749130029074\n",
      "[Epoch 52]test_loss:  0.4591104566493881\n",
      "[Epoch 53]train_loss:  0.16332463986577003\n",
      "[Epoch 53]test_loss:  0.45844088940419886\n",
      "[Epoch 54]train_loss:  0.16007302320199393\n",
      "[Epoch 54]test_loss:  0.45780685571866614\n",
      "[Epoch 55]train_loss:  0.15697096242731165\n",
      "[Epoch 55]test_loss:  0.4572352442507432\n",
      "[Epoch 56]train_loss:  0.1540182914077676\n",
      "[Epoch 56]test_loss:  0.45672045383497933\n",
      "[Epoch 57]train_loss:  0.15120550773233316\n",
      "[Epoch 57]test_loss:  0.45623762627071307\n",
      "[Epoch 58]train_loss:  0.14851988885254366\n",
      "[Epoch 58]test_loss:  0.4557775868990711\n",
      "[Epoch 59]train_loss:  0.14595060034746854\n",
      "[Epoch 59]test_loss:  0.4553689118300643\n",
      "[Epoch 60]train_loss:  0.14349571748378692\n",
      "[Epoch 60]test_loss:  0.45504026992298735\n",
      "[Epoch 61]train_loss:  0.14115552243912163\n",
      "[Epoch 61]test_loss:  0.4547761748327273\n",
      "[Epoch 62]train_loss:  0.1389229439653701\n",
      "[Epoch 62]test_loss:  0.45455255171405934\n",
      "[Epoch 63]train_loss:  0.136790104105439\n",
      "[Epoch 63]test_loss:  0.4543564013231581\n",
      "[Epoch 64]train_loss:  0.13475101497111747\n",
      "[Epoch 64]test_loss:  0.4541812291212171\n",
      "[Epoch 65]train_loss:  0.13280069800050046\n",
      "[Epoch 65]test_loss:  0.45402273159717843\n",
      "[Epoch 66]train_loss:  0.13093445986999033\n",
      "[Epoch 66]test_loss:  0.45387746365827936\n",
      "[Epoch 67]train_loss:  0.12914756055868848\n",
      "[Epoch 67]test_loss:  0.45374342687776154\n",
      "[Epoch 68]train_loss:  0.12743520017870716\n",
      "[Epoch 68]test_loss:  0.45362103277834775\n",
      "[Epoch 69]train_loss:  0.12579324374526318\n",
      "[Epoch 69]test_loss:  0.4535099364051195\n",
      "[Epoch 70]train_loss:  0.12421957692000228\n",
      "[Epoch 70]test_loss:  0.4534074981635976\n",
      "[Epoch 71]train_loss:  0.12271429155843919\n",
      "[Epoch 71]test_loss:  0.4533126097973262\n",
      "[Epoch 72]train_loss:  0.12127727840288144\n",
      "[Epoch 72]test_loss:  0.45322439074516296\n",
      "[Epoch 73]train_loss:  0.11990565351897002\n",
      "[Epoch 73]test_loss:  0.45314006660586204\n",
      "[Epoch 74]train_loss:  0.11859530875100777\n",
      "[Epoch 74]test_loss:  0.45305796775305385\n",
      "[Epoch 75]train_loss:  0.117342624778339\n",
      "[Epoch 75]test_loss:  0.4529776105256838\n",
      "[Epoch 76]train_loss:  0.11614448664613733\n",
      "[Epoch 76]test_loss:  0.45289916677452696\n",
      "[Epoch 77]train_loss:  0.11499808242483318\n",
      "[Epoch 77]test_loss:  0.4528231399360104\n",
      "[Epoch 78]train_loss:  0.11390079391744215\n",
      "[Epoch 78]test_loss:  0.4527503211643094\n",
      "[Epoch 79]train_loss:  0.11285019020589304\n",
      "[Epoch 79]test_loss:  0.452681431424952\n",
      "[Epoch 80]train_loss:  0.11184406193069449\n",
      "[Epoch 80]test_loss:  0.45261705158469834\n"
     ]
    }
   ],
   "source": [
    "# train\n",
    "loss_list = []\n",
    "test_loss_list = []\n",
    "auc_score_list = []\n",
    "\n",
    "for epoch in range(args.n_epochs):\n",
    "    running_loss = 0.0\n",
    "    for i, (user_ids, item_ids, labels) in enumerate(train_loader):\n",
    "        user_ids, item_ids, labels = user_ids.to(device), item_ids.to(device), labels.to(device)\n",
    "        optimizer.zero_grad()\n",
    "        outputs = net(user_ids, item_ids)\n",
    "        loss = criterion(outputs, labels)\n",
    "        loss.backward()\n",
    "        optimizer.step()\n",
    "        running_loss += loss.item()\n",
    "\n",
    "    # print train loss per every epoch\n",
    "    print('[Epoch {}]train_loss: '.format(epoch + 1), running_loss / len(train_loader))\n",
    "    loss_list.append(running_loss / len(train_loader))\n",
    "\n",
    "    # evaluate per every epoch\n",
    "    with torch.no_grad():\n",
    "        test_loss = 0\n",
    "        total_roc = 0\n",
    "        for user_ids, item_ids, labels in test_loader:\n",
    "            user_ids, item_ids, labels = user_ids.to(device), item_ids.to(device), labels.to(device)\n",
    "            outputs = net(user_ids, item_ids)\n",
    "            test_loss += criterion(outputs, labels).item()\n",
    "            total_roc += roc_auc_score(labels.cpu().detach().numpy(), outputs.cpu().detach().numpy())\n",
    "        print('[Epoch {}]test_loss: '.format(epoch + 1), test_loss / len(test_loader))\n",
    "        test_loss_list.append(test_loss / len(test_loader))\n",
    "        auc_score_list.append(total_roc / len(test_loader))\n"
   ]
  },
  {
   "cell_type": "code",
   "execution_count": 8,
   "metadata": {
    "pycharm": {
     "name": "#%%\n"
    }
   },
   "outputs": [
    {
     "data": {
      "text/plain": "<Figure size 720x288 with 2 Axes>",
      "image/png": "[encoded data removed]"
     },
     "metadata": {
      "needs_background": "light"
     },
     "output_type": "display_data"
    }
   ],
   "source": [
    "# plot losses / scores\n",
    "fig, (ax1, ax2) = plt.subplots(1, 2, figsize=(10, 4))  # 1 row, 2 columns\n",
    "ax1.plot(loss_list)\n",
    "ax1.plot(test_loss_list)\n",
    "ax2.plot(auc_score_list)\n",
    "\n",
    "plt.tight_layout()"
   ]
  },
  {
   "cell_type": "code",
   "execution_count": 8,
   "outputs": [
    {
     "data": {
      "text/plain": "KGCN(\n  (aggregator): Aggregator(\n    (weights): Linear(in_features=16, out_features=16, bias=True)\n  )\n  (usr): Embedding(1000, 16)\n  (ent): Embedding(1614, 16)\n  (rel): Embedding(3, 16)\n)"
     },
     "execution_count": 8,
     "metadata": {},
     "output_type": "execute_result"
    }
   ],
   "source": [
    "# 保存模型\n",
    "PATH = \"graph_recommend/features/kgcn_features.pth\"\n",
    "# torch.save(net.state_dict(), PATH)\n",
    "\n",
    "loaded_model = KGCN(num_user, num_entity, num_relation, kg, args, device)\n",
    "loaded_model.load_state_dict(torch.load(PATH))\n",
    "loaded_model.eval()\n",
    "loaded_model"
   ],
   "metadata": {
    "collapsed": false,
    "pycharm": {
     "name": "#%%\n"
    }
   }
  },
  {
   "cell_type": "markdown",
   "metadata": {
    "pycharm": {
     "name": "#%% md\n"
    }
   },
   "source": [
    "## 四、测试推荐结果\n"
   ]
  },
  {
   "cell_type": "code",
   "execution_count": 9,
   "metadata": {
    "pycharm": {
     "name": "#%%\n"
    }
   },
   "outputs": [
    {
     "data": {
      "text/plain": "0          0\n1          4\n2          7\n3         10\n4         11\n        ... \n1552    1609\n1553    1610\n1554    1611\n1555    1612\n1556    1613\nName: id, Length: 1557, dtype: int64"
     },
     "execution_count": 9,
     "metadata": {},
     "output_type": "execute_result"
    }
   ],
   "source": [
    "df_rating = pd.read_csv(\"data/user_item.txt\", sep='\\t', header=None, names=['userID', 'itemID', 'rating'])\n",
    "chart = pd.read_csv(\"data/item_detail.txt\", sep='\\t', header=None,\n",
    "                    names=['id', 'name', 'taste', 'cuisine', 'cooking_method', 'url'])\n",
    "item_ids = chart['id']\n",
    "item_ids\n"
   ]
  },
  {
   "cell_type": "code",
   "execution_count": 10,
   "metadata": {
    "pycharm": {
     "name": "#%%\n"
    }
   },
   "outputs": [
    {
     "name": "stdout",
     "output_type": "stream",
     "text": [
      "Top-K 推荐菜:\n",
      "335 糯米酒酿鸡翅根 粤菜 601 蛋酱炒面 江西菜 280 汽水肉蒸蛋 粤菜 346 牛奶红豆杯 粤菜 259 白云凤爪 粤菜 307 汕头牛筋丸汤河粉 粤菜 354 鱿鱼土豆汤 粤菜 343 鱿鱼豆角情 粤菜 301 虾韮菜煎蛋 粤菜 264 自制广式腊肉 粤菜 \n"
     ]
    }
   ],
   "source": [
    "user_id = 39\n",
    "\n",
    "fav_foods = df_rating[df_rating['userID'] == 39]['itemID']\n",
    "user = torch.tensor([user_id])\n",
    "\n",
    "score_list = []\n",
    "for id in item_ids:\n",
    "    if id not in fav_foods.values.tolist():\n",
    "        item = torch.tensor([id])\n",
    "        score = loaded_model(user, item)\n",
    "        score_list.append([id, score])\n",
    "\n",
    "sort_list = sorted(score_list, key=lambda t: t[1], reverse=True)\n",
    "\n",
    "i = 0\n",
    "res_str = \"\"\n",
    "for t in sort_list[:10]:\n",
    "    id = t[0]\n",
    "    cur_item = chart[chart['id'].isin([id])]\n",
    "    cur_item.reset_index(inplace=True, drop=True)\n",
    "    name = cur_item.at[0, 'name']\n",
    "    cuisine = cur_item.at[0, 'cuisine']\n",
    "    res_str = res_str + str(id) + \" \" + name + \" \" + cuisine + \" \"\n",
    "\n",
    "print(\"Top-K 推荐菜:\")\n",
    "print(res_str)"
   ]
  },
  {
   "cell_type": "code",
   "execution_count": 10,
   "metadata": {
    "pycharm": {
     "name": "#%%\n"
    }
   },
   "outputs": [],
   "source": []
  }
 ],
 "metadata": {
  "kernelspec": {
   "display_name": "Python 3 (ipykernel)",
   "language": "python",
   "name": "python3"
  },
  "language_info": {
   "codemirror_mode": {
    "name": "ipython",
    "version": 3
   },
   "file_extension": ".py",
   "mimetype": "text/x-python",
   "name": "python",
   "nbconvert_exporter": "python",
   "pygments_lexer": "ipython3",
   "version": "3.8.12"
  }
 },
 "nbformat": 4,
 "nbformat_minor": 1
}